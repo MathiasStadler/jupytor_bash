{
 "cells": [
  {
   "cell_type": "markdown",
   "id": "25107432",
   "metadata": {},
   "source": [
    "# install to ubuntu 22.04.1-Ubuntu\n",
    "- open terminal as user non root\n",
    "- execute follow command ->\n",
    "  - pip install bash_kernel\n",
    "  - jupyter notebook\n",
    "- create new notebook -> test.ipynb\n",
    "- In the notebook interface, select Bash from the 'New' menu \n",
    "- create new shell with test command\n",
    "- finish have fun"
   ]
  },
  {
   "cell_type": "code",
   "execution_count": 1,
   "metadata": {
    "vscode": {
     "languageId": "shellscript"
    }
   },
   "outputs": [
    {
     "name": "stdout",
     "output_type": "stream",
     "text": [
      "/home/trapapa/jupytor_bash\n"
     ]
    }
   ],
   "source": [
    "pwd"
   ]
  }
 ],
 "metadata": {
  "kernelspec": {
   "display_name": "Bash",
   "language": "bash",
   "name": "bash"
  },
  "language_info": {
   "codemirror_mode": "shell",
   "file_extension": ".sh",
   "mimetype": "text/x-sh",
   "name": "bash"
  }
 },
 "nbformat": 4,
 "nbformat_minor": 5
}
